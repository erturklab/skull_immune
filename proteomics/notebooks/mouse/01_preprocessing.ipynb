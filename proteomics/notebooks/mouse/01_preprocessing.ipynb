{
 "cells": [
  {
   "cell_type": "markdown",
   "id": "e658d8b9",
   "metadata": {},
   "source": [
    "The dataset consists of proeotmics from 5 bones + brain + meninges\n",
    "1. skull (calvaria)\n",
    "2. forearm (humerus)\n",
    "3. vertebra\n",
    "4. pelvis\n",
    "5. femur\n",
    "6. brain\n",
    "7. meninges (not in naive)\n",
    "\n",
    "for 3 conditions,\n",
    "1. naive\n",
    "2. sham (surgical cut)\n",
    "3. mcao (stroke model)\n",
    "\n",
    "for 3 animals each.\n",
    "\n",
    "total 60 groups.\n",
    "\n",
    "pooled samples have also scapula\n",
    "\n",
    "sham meninges 3 has repeated measurement so replaced by sample 4"
   ]
  },
  {
   "cell_type": "code",
   "execution_count": 1,
   "id": "96b9b5dd",
   "metadata": {},
   "outputs": [],
   "source": [
    "%load_ext autoreload\n",
    "%autoreload 2"
   ]
  },
  {
   "cell_type": "code",
   "execution_count": 2,
   "id": "e44a20ac",
   "metadata": {},
   "outputs": [],
   "source": [
    "import random \n",
    "\n",
    "import numpy as np\n",
    "import scanpy as sc\n",
    "import pandas as pd\n",
    "import seaborn as sns\n",
    "import matplotlib.pyplot as plt\n",
    "import matplotlib.colors as mcolors\n",
    "\n",
    "import anndata as ann\n",
    "\n",
    "sc.settings.set_figure_params(dpi=100)\n",
    "\n",
    "\n",
    "from utils import (\n",
    "                    get_genes_per_group,                \n",
    "                    filter_proteins_per_group, \n",
    "                    normalise,\n",
    "#                     median_normalization,\n",
    "                    impute_knn,\n",
    "                    impute_knn_nan,\n",
    "                    impute_min_value,\n",
    "                    impute_min_value_nan,\n",
    "                  )\n",
    "\n",
    "from gprofiler import GProfiler\n",
    "from gprofiler_plotting import plot_enrich\n",
    "from bioinfokit import analys, visuz\n",
    "from upsetplot import plot, from_contents\n"
   ]
  },
  {
   "cell_type": "code",
   "execution_count": 3,
   "id": "7062c987",
   "metadata": {},
   "outputs": [],
   "source": [
    "DATA_DIR = \"\"\n",
    "FILE_NAME = \"\"\n",
    "delimiter=\"\\t\""
   ]
  },
  {
   "cell_type": "code",
   "execution_count": 20,
   "id": "a8369a7d",
   "metadata": {},
   "outputs": [],
   "source": [
    "data = pd.read_csv(f\"{DATA_DIR}/{FILE_NAME}\", delimiter=delimiter)"
   ]
  },
  {
   "cell_type": "code",
   "execution_count": 21,
   "id": "acd2d634",
   "metadata": {},
   "outputs": [],
   "source": [
    "gene_column=\"Genes\"\n",
    "\n",
    "# dropping genes with nan values\n",
    "data = data[~data[gene_column].isna()]\n",
    "data = data.reset_index()\n",
    "data = data.drop(columns=[\"index\"])"
   ]
  },
  {
   "cell_type": "code",
   "execution_count": 33,
   "id": "af920743",
   "metadata": {},
   "outputs": [],
   "source": [
    "# specifying columns of interest\n",
    "columns_naive = [col for col in data.columns if 'naive' in col]\n",
    "columns_sham = [col for col in data.columns if 'sham' in col]\n",
    "columns_mcao = [col for col in data.columns if 'mcao' in col]\n",
    "\n",
    "columns_calvaria = [col for col in data.columns if 'calvaria' in col]\n",
    "columns_meninges = [col for col in data.columns if 'meninges' in col]\n",
    "columns_brain = [col for col in data.columns if 'brain' in col]\n",
    "\n",
    "columns_humerus = [col for col in data.columns if 'humerus' in col]\n",
    "columns_vertebra = [col for col in data.columns if 'vertebra' in col]\n",
    "columns_pelvis = [col for col in data.columns if 'pelvis' in col]\n",
    "columns_femur = [col for col in data.columns if 'femur' in col]\n",
    "\n",
    "# remove scapula\n",
    "COLUMNS = list(set(columns_naive + columns_sham + columns_mcao))\n",
    "COLUMNS_BMS = list(set(COLUMNS) & (set(columns_calvaria + columns_meninges + columns_brain)))\n",
    "COLUMNS_BONES = list(set(COLUMNS) - (set(columns_meninges + columns_brain)))"
   ]
  },
  {
   "cell_type": "markdown",
   "id": "aaa24182",
   "metadata": {},
   "source": [
    "#### Preprocessing\n",
    "1. Filtering proteins \n",
    "2. Normalisation \n",
    "3. Log transformation \n",
    "5. Imputation "
   ]
  },
  {
   "cell_type": "markdown",
   "id": "fb100ec3",
   "metadata": {},
   "source": [
    "#### 1. Filter data"
   ]
  },
  {
   "cell_type": "code",
   "execution_count": 43,
   "id": "74d4ea02",
   "metadata": {},
   "outputs": [],
   "source": [
    "filtered_data = filter_proteins_per_group(\n",
    "    data=data,\n",
    "    samples={\n",
    "        'calvaria': columns_calvaria, \n",
    "#         'meninges': columns_meninges, \n",
    "#         'brain': columns_brain,\n",
    "        'humerus': columns_humerus,\n",
    "        'vertebra': columns_vertebra,\n",
    "        'pelvis': columns_pelvis,\n",
    "        'femur': columns_femur,\n",
    "    },\n",
    "    half_values=True,\n",
    "    in_place=False\n",
    ")"
   ]
  },
  {
   "cell_type": "markdown",
   "id": "921b7869",
   "metadata": {},
   "source": [
    "#### Create anndata"
   ]
  },
  {
   "cell_type": "code",
   "execution_count": 45,
   "id": "ce7608da",
   "metadata": {},
   "outputs": [],
   "source": [
    "genes = [gene.split(';')[0] for gene in filtered_data['Genes'].values]\n",
    "genes = [gene.split('_')[0] for gene in genes]\n",
    "protein_ids = [p.split(';')[0] for p in filtered_data['Protein.Ids'].values]"
   ]
  },
  {
   "cell_type": "code",
   "execution_count": 46,
   "id": "bd9c9587",
   "metadata": {},
   "outputs": [],
   "source": [
    "# all bones + meninges and brain data\n",
    "regions = [col.split('_')[1] for col in COLUMNS]\n",
    "samples = [col.split('_')[-1] for col in COLUMNS]\n",
    "conditions = [col.split('_')[0] for col in COLUMNS]"
   ]
  },
  {
   "cell_type": "code",
   "execution_count": 47,
   "id": "dbb10de4",
   "metadata": {},
   "outputs": [
    {
     "name": "stderr",
     "output_type": "stream",
     "text": [
      "/Users/mayar.ali/opt/anaconda3/envs/proteomics/lib/python3.8/site-packages/anndata/_core/anndata.py:120: ImplicitModificationWarning: Transforming to str index.\n",
      "  warnings.warn(\"Transforming to str index.\", ImplicitModificationWarning)\n",
      "Variable names are not unique. To make them unique, call `.var_names_make_unique`.\n"
     ]
    },
    {
     "data": {
      "text/plain": [
       "AnnData object with n_obs × n_vars = 60 × 4172\n",
       "    obs: 'condition', 'region', 'sample'\n",
       "    var: 'gene', 'protein_id'"
      ]
     },
     "execution_count": 47,
     "metadata": {},
     "output_type": "execute_result"
    }
   ],
   "source": [
    "# whole samples\n",
    "\n",
    "X = filtered_data[COLUMNS].T.values\n",
    "\n",
    "df_obs = pd.DataFrame()\n",
    "df_obs['condition'] = conditions\n",
    "df_obs['region'] = regions\n",
    "df_obs['sample'] = samples\n",
    "\n",
    "df_var = pd.DataFrame(index=genes)\n",
    "df_var['gene'] = genes\n",
    "df_var['protein_id'] = protein_ids\n",
    "\n",
    "\n",
    "adata = ann.AnnData(\n",
    "    X = X,\n",
    "    obs = df_obs,\n",
    "    var = df_var,\n",
    ")\n",
    "adata.var_names_make_unique()\n",
    "adata"
   ]
  },
  {
   "cell_type": "markdown",
   "id": "cea882f6",
   "metadata": {},
   "source": [
    "#### 2. Dropping proteins appearing in less than half samples"
   ]
  },
  {
   "cell_type": "code",
   "execution_count": 50,
   "id": "be3d1e0f",
   "metadata": {},
   "outputs": [
    {
     "data": {
      "text/plain": [
       "4172"
      ]
     },
     "execution_count": 50,
     "metadata": {},
     "output_type": "execute_result"
    }
   ],
   "source": [
    "num_genes_org = len(adata.var_names)\n",
    "num_genes_org"
   ]
  },
  {
   "cell_type": "code",
   "execution_count": 51,
   "id": "6722a636",
   "metadata": {},
   "outputs": [
    {
     "name": "stdout",
     "output_type": "stream",
     "text": [
      "filtered out 0 genes that are detected in less than 6 samples!\n"
     ]
    },
    {
     "data": {
      "text/plain": [
       "AnnData object with n_obs × n_vars = 60 × 4172\n",
       "    obs: 'condition', 'region', 'sample'\n",
       "    var: 'gene', 'protein_id', 'n_cells'"
      ]
     },
     "execution_count": 51,
     "metadata": {},
     "output_type": "execute_result"
    }
   ],
   "source": [
    "# filtering out genes that are present in less than min_samples\n",
    "min_samples=6\n",
    "sc.pp.filter_genes(adata, min_cells=min_samples)\n",
    "print(f'filtered out {num_genes_org - adata.shape[1]} genes that are detected in less than {min_samples} samples!')\n",
    "adata"
   ]
  },
  {
   "cell_type": "markdown",
   "id": "3d721e0c",
   "metadata": {},
   "source": [
    "#### 3. Log transformation -- skipped since transformation was already performed"
   ]
  },
  {
   "cell_type": "code",
   "execution_count": 52,
   "id": "2d533234",
   "metadata": {},
   "outputs": [],
   "source": [
    "# log transform adata\n",
    "sc.pp.log1p(adata)"
   ]
  },
  {
   "cell_type": "code",
   "execution_count": 54,
   "id": "9cf9ce12",
   "metadata": {},
   "outputs": [],
   "source": [
    "adata.obs['condition_region'] = adata.obs['region'].astype(str) + ' ' + \\\n",
    "                                    adata.obs['condition'].astype(str) \n",
    "                                           \n",
    "adata.obs['condition_region'] = adata.obs['condition_region'].astype('category')"
   ]
  },
  {
   "cell_type": "code",
   "execution_count": 55,
   "id": "bac7f528",
   "metadata": {},
   "outputs": [],
   "source": [
    "adata.obs['condition_region_sample'] = adata.obs['condition'].astype(str) + '_' + \\\n",
    "                                           adata.obs['region'].astype(str) + '_' + \\\n",
    "                                            adata.obs['sample'].astype(str)\n",
    "adata.obs['condition_region_sample'] = adata.obs['condition_region_sample'].astype('category')"
   ]
  },
  {
   "cell_type": "markdown",
   "id": "ed0d389b",
   "metadata": {},
   "source": [
    "#### 4. Normalisation"
   ]
  },
  {
   "cell_type": "code",
   "execution_count": 58,
   "id": "dc42df64",
   "metadata": {},
   "outputs": [],
   "source": [
    "normalise(\n",
    "    adata, \n",
    "    obs_columns=['condition_region_sample'],\n",
    "    na_threshold=None,\n",
    ")\n"
   ]
  },
  {
   "cell_type": "markdown",
   "id": "907f6a76",
   "metadata": {},
   "source": [
    "#### 4. Imputation (KNN)"
   ]
  },
  {
   "cell_type": "code",
   "execution_count": 60,
   "id": "4d0b24ae",
   "metadata": {},
   "outputs": [],
   "source": [
    "adata_knn = adata.copy()"
   ]
  },
  {
   "cell_type": "code",
   "execution_count": 61,
   "id": "6c35ba70",
   "metadata": {},
   "outputs": [],
   "source": [
    "impute_knn_nan(adata_knn)"
   ]
  }
 ],
 "metadata": {
  "kernelspec": {
   "display_name": "Python 3 (ipykernel)",
   "language": "python",
   "name": "python3"
  },
  "language_info": {
   "codemirror_mode": {
    "name": "ipython",
    "version": 3
   },
   "file_extension": ".py",
   "mimetype": "text/x-python",
   "name": "python",
   "nbconvert_exporter": "python",
   "pygments_lexer": "ipython3",
   "version": "3.8.8"
  }
 },
 "nbformat": 4,
 "nbformat_minor": 5
}
