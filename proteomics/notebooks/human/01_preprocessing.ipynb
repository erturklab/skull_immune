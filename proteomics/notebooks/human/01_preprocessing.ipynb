{
 "cells": [
  {
   "cell_type": "markdown",
   "id": "ee7b82b3",
   "metadata": {},
   "source": [
    "The dataset consists of proeotmics from 3 bones\n",
    "\n",
    "1. skull (calvaria)\n",
    "2. vertebra\n",
    "3. pelvis\n",
    "\n",
    "for 20 human samples\n",
    "\n",
    "total 60 measurements."
   ]
  },
  {
   "cell_type": "code",
   "execution_count": 1,
   "id": "79fef151",
   "metadata": {},
   "outputs": [],
   "source": [
    "%load_ext autoreload\n",
    "%autoreload 2"
   ]
  },
  {
   "cell_type": "code",
   "execution_count": 2,
   "id": "f90f6409",
   "metadata": {},
   "outputs": [],
   "source": [
    "import random \n",
    "\n",
    "import numpy as np\n",
    "import scanpy as sc\n",
    "import pandas as pd\n",
    "import seaborn as sns\n",
    "import matplotlib.pyplot as plt\n",
    "import matplotlib.colors as mcolors\n",
    "\n",
    "import anndata as ann\n",
    "\n",
    "sc.settings.set_figure_params(dpi=100)\n",
    "\n",
    "\n",
    "from utils import (\n",
    "                    get_genes_per_group,                \n",
    "                    filter_proteins_per_group, \n",
    "                    normalise,\n",
    "                    impute_knn,\n",
    "                    impute_knn_nan,\n",
    "                    impute_min_value,\n",
    "                    impute_min_value_nan,\n",
    "                  )\n",
    "\n",
    "from gprofiler import GProfiler\n",
    "from gprofiler_plotting import plot_enrich\n",
    "\n",
    "from bioinfokit import analys, visuz"
   ]
  },
  {
   "cell_type": "code",
   "execution_count": 3,
   "id": "c3d2c241",
   "metadata": {},
   "outputs": [],
   "source": [
    "DATA_DIR = \"\"\n",
    "FILE_NAME = \"\"\n",
    "delimiter = \"\\t\""
   ]
  },
  {
   "cell_type": "code",
   "execution_count": 4,
   "id": "4540c59d",
   "metadata": {},
   "outputs": [],
   "source": [
    "data = pd.read_csv(f\"{DATA_DIR}/{FILE_NAME}\" , delimiter=delimiter)"
   ]
  },
  {
   "cell_type": "code",
   "execution_count": null,
   "id": "f63cef4d",
   "metadata": {},
   "outputs": [],
   "source": [
    "# dropping genes with nan values\n",
    "data = data[~data['Genes'].isna()]\n",
    "data = data.reset_index()\n",
    "data = data.drop(columns=[\"index\"])"
   ]
  },
  {
   "cell_type": "code",
   "execution_count": 7,
   "id": "4f7709d2",
   "metadata": {},
   "outputs": [],
   "source": [
    "calvaria_cols = [col for col in data.columns if 'Calvaria' in col]\n",
    "pelvis_cols = [col for col in data.columns if 'Pelvis' in col]\n",
    "vertebra_cols = [col for col in data.columns if 'Vertebra' in col]\n",
    "columns = calvaria_cols + pelvis_cols + vertebra_cols"
   ]
  },
  {
   "cell_type": "markdown",
   "id": "9d012cf5",
   "metadata": {},
   "source": [
    "#### Preprocessing\n",
    "1. Filtering proteins \n",
    "2. Drop proteins apprearing in less than min_samples \n",
    "3. Log transformation \n",
    "4. Normalisation \n",
    "5. Imputation "
   ]
  },
  {
   "cell_type": "markdown",
   "id": "cadc3949",
   "metadata": {},
   "source": [
    "#### 1. Filter data"
   ]
  },
  {
   "cell_type": "code",
   "execution_count": 8,
   "id": "48fc4fda",
   "metadata": {},
   "outputs": [],
   "source": [
    "filtered_data = filter_proteins_per_group(\n",
    "    data=data,\n",
    "    samples={\n",
    "        'calvaria': calvaria_cols, \n",
    "        'pelvis': pelvis_cols,\n",
    "        'vertebra': vertebra_cols\n",
    "    },\n",
    "#     drop_threshold=6,\n",
    "    half_values=True,\n",
    "    in_place=False\n",
    ")"
   ]
  },
  {
   "cell_type": "markdown",
   "id": "47796fcd",
   "metadata": {},
   "source": [
    "#### Create anndata"
   ]
  },
  {
   "cell_type": "code",
   "execution_count": 27,
   "id": "5b748c82",
   "metadata": {},
   "outputs": [],
   "source": [
    "genes = [gene.split(';')[0] for gene in filtered_data['Genes'].values]\n",
    "genes = [gene.split('_')[0] for gene in genes]\n",
    "protein_ids = [str(p).split(';')[0] for p in filtered_data['Protein.Ids'].values]\n",
    "protein_names = [str(p).split(';')[0] for p in filtered_data['Protein.Names'].values]\n",
    "protein_names = [p.split('_')[0] for p in protein_names]"
   ]
  },
  {
   "cell_type": "code",
   "execution_count": 28,
   "id": "a9ae72a3",
   "metadata": {},
   "outputs": [
    {
     "name": "stderr",
     "output_type": "stream",
     "text": [
      "/Users/mayar.ali/opt/anaconda3/envs/proteomics/lib/python3.8/site-packages/anndata/_core/anndata.py:120: ImplicitModificationWarning: Transforming to str index.\n",
      "  warnings.warn(\"Transforming to str index.\", ImplicitModificationWarning)\n",
      "Variable names are not unique. To make them unique, call `.var_names_make_unique`.\n"
     ]
    },
    {
     "data": {
      "text/plain": [
       "AnnData object with n_obs × n_vars = 60 × 5320\n",
       "    obs: 'sample', 'region'\n",
       "    var: 'gene', 'protein_id', 'protein_names'"
      ]
     },
     "execution_count": 28,
     "metadata": {},
     "output_type": "execute_result"
    }
   ],
   "source": [
    "# whole samples\n",
    "\n",
    "X = filtered_data[columns].T.values\n",
    "\n",
    "df_obs = pd.DataFrame()\n",
    "df_obs['sample'] = [col.split('_')[-1] for col in columns]\n",
    "df_obs['region'] = [col.split('_')[0] for col in columns]\n",
    "\n",
    "df_var = pd.DataFrame(index=genes)\n",
    "df_var['gene'] = filtered_data['Genes'].values\n",
    "df_var['protein_id'] = protein_ids\n",
    "df_var['protein_names'] = protein_names\n",
    "\n",
    "\n",
    "adata = ann.AnnData(\n",
    "    X = X,\n",
    "    obs = df_obs,\n",
    "    var = df_var,\n",
    ")\n",
    "adata.var_names_make_unique()\n",
    "adata"
   ]
  },
  {
   "cell_type": "code",
   "execution_count": 29,
   "id": "a20cdd6f",
   "metadata": {},
   "outputs": [],
   "source": [
    "adata.obs[\"region_sample\"] = adata.obs[\"region\"] + \"_\"  + adata.obs[\"sample\"]"
   ]
  },
  {
   "cell_type": "markdown",
   "id": "9a657bd3",
   "metadata": {},
   "source": [
    "#### 2. Dropping proteins appearing in less than half samples"
   ]
  },
  {
   "cell_type": "code",
   "execution_count": 32,
   "id": "e833f743",
   "metadata": {},
   "outputs": [
    {
     "data": {
      "text/plain": [
       "5320"
      ]
     },
     "execution_count": 32,
     "metadata": {},
     "output_type": "execute_result"
    }
   ],
   "source": [
    "num_genes_org = len(adata.var_names)\n",
    "num_genes_org"
   ]
  },
  {
   "cell_type": "code",
   "execution_count": 33,
   "id": "7a36d4f7",
   "metadata": {},
   "outputs": [
    {
     "name": "stdout",
     "output_type": "stream",
     "text": [
      "filtered out 0 genes that are detected in less than 6 samples!\n"
     ]
    },
    {
     "data": {
      "text/plain": [
       "AnnData object with n_obs × n_vars = 60 × 5320\n",
       "    obs: 'sample', 'region', 'region_sample'\n",
       "    var: 'gene', 'protein_id', 'protein_names', 'n_cells'"
      ]
     },
     "execution_count": 33,
     "metadata": {},
     "output_type": "execute_result"
    }
   ],
   "source": [
    "# filtering out genes that are present in less than min_samples\n",
    "min_samples=6\n",
    "sc.pp.filter_genes(adata, min_cells=min_samples)\n",
    "print(f'filtered out {num_genes_org - adata.shape[1]} genes that are detected in less than {min_samples} samples!')\n",
    "adata"
   ]
  },
  {
   "cell_type": "markdown",
   "id": "66a61099",
   "metadata": {},
   "source": [
    "#### 3. Log transformation"
   ]
  },
  {
   "cell_type": "code",
   "execution_count": 34,
   "id": "2cada6e9",
   "metadata": {},
   "outputs": [],
   "source": [
    "# log transform adata\n",
    "sc.pp.log1p(adata)"
   ]
  },
  {
   "cell_type": "markdown",
   "id": "ec05975c",
   "metadata": {},
   "source": [
    "#### 4. Normalisation"
   ]
  },
  {
   "cell_type": "code",
   "execution_count": 36,
   "id": "a9f2bf4d",
   "metadata": {},
   "outputs": [],
   "source": [
    "group_by = 'region_sample'\n",
    "normalise(\n",
    "    adata, \n",
    "    obs_columns=['region_sample'],\n",
    "#     group_by_column=group_by,\n",
    "    na_threshold=None,\n",
    ")"
   ]
  },
  {
   "cell_type": "markdown",
   "id": "c9929409",
   "metadata": {},
   "source": [
    "#### 4. Imputation (KNN)"
   ]
  },
  {
   "cell_type": "code",
   "execution_count": 38,
   "id": "4390dfad",
   "metadata": {},
   "outputs": [],
   "source": [
    "adata_knn = adata.copy()"
   ]
  },
  {
   "cell_type": "code",
   "execution_count": 39,
   "id": "589f85d6",
   "metadata": {},
   "outputs": [],
   "source": [
    "impute_knn_nan(adata_knn)"
   ]
  },
  {
   "cell_type": "markdown",
   "id": "3355d54b",
   "metadata": {},
   "source": [
    "#### Downstream analysis"
   ]
  },
  {
   "cell_type": "code",
   "execution_count": 41,
   "id": "7061946d",
   "metadata": {},
   "outputs": [
    {
     "data": {
      "text/html": [
       "<div>\n",
       "<style scoped>\n",
       "    .dataframe tbody tr th:only-of-type {\n",
       "        vertical-align: middle;\n",
       "    }\n",
       "\n",
       "    .dataframe tbody tr th {\n",
       "        vertical-align: top;\n",
       "    }\n",
       "\n",
       "    .dataframe thead th {\n",
       "        text-align: right;\n",
       "    }\n",
       "</style>\n",
       "<table border=\"1\" class=\"dataframe\">\n",
       "  <thead>\n",
       "    <tr style=\"text-align: right;\">\n",
       "      <th></th>\n",
       "      <th>sample num</th>\n",
       "      <th>PMI (h)</th>\n",
       "      <th>Cause of death</th>\n",
       "      <th>age (years)</th>\n",
       "      <th>sex</th>\n",
       "    </tr>\n",
       "  </thead>\n",
       "  <tbody>\n",
       "    <tr>\n",
       "      <th>0</th>\n",
       "      <td>1</td>\n",
       "      <td>36</td>\n",
       "      <td>Asphyxiaton (Hanging/suicide)</td>\n",
       "      <td>23</td>\n",
       "      <td>male</td>\n",
       "    </tr>\n",
       "    <tr>\n",
       "      <th>1</th>\n",
       "      <td>2</td>\n",
       "      <td>36</td>\n",
       "      <td>Dissection of aorta (Traffic accident)</td>\n",
       "      <td>56</td>\n",
       "      <td>male</td>\n",
       "    </tr>\n",
       "    <tr>\n",
       "      <th>2</th>\n",
       "      <td>3</td>\n",
       "      <td>18</td>\n",
       "      <td>Asphyxiaton (possible anaphylactic shock)</td>\n",
       "      <td>56</td>\n",
       "      <td>male</td>\n",
       "    </tr>\n",
       "    <tr>\n",
       "      <th>3</th>\n",
       "      <td>4</td>\n",
       "      <td>36</td>\n",
       "      <td>Hemorrhagic shock (Suicide)</td>\n",
       "      <td>86</td>\n",
       "      <td>male</td>\n",
       "    </tr>\n",
       "    <tr>\n",
       "      <th>4</th>\n",
       "      <td>5</td>\n",
       "      <td>26</td>\n",
       "      <td>Hemorrhagic shock (complication during central...</td>\n",
       "      <td>77</td>\n",
       "      <td>female</td>\n",
       "    </tr>\n",
       "    <tr>\n",
       "      <th>5</th>\n",
       "      <td>6</td>\n",
       "      <td>28</td>\n",
       "      <td>Polytrauma (Accident)</td>\n",
       "      <td>70</td>\n",
       "      <td>male</td>\n",
       "    </tr>\n",
       "    <tr>\n",
       "      <th>6</th>\n",
       "      <td>7</td>\n",
       "      <td>17</td>\n",
       "      <td>Myocardial infarction</td>\n",
       "      <td>69</td>\n",
       "      <td>male</td>\n",
       "    </tr>\n",
       "    <tr>\n",
       "      <th>7</th>\n",
       "      <td>8</td>\n",
       "      <td>27</td>\n",
       "      <td>Head shot (Suicide) possible M.Parkinson</td>\n",
       "      <td>92</td>\n",
       "      <td>male</td>\n",
       "    </tr>\n",
       "    <tr>\n",
       "      <th>8</th>\n",
       "      <td>9</td>\n",
       "      <td>29</td>\n",
       "      <td>Hanging (suicide)</td>\n",
       "      <td>39</td>\n",
       "      <td>female</td>\n",
       "    </tr>\n",
       "    <tr>\n",
       "      <th>13</th>\n",
       "      <td>10</td>\n",
       "      <td>325</td>\n",
       "      <td>Pneumonia</td>\n",
       "      <td>73</td>\n",
       "      <td>female</td>\n",
       "    </tr>\n",
       "    <tr>\n",
       "      <th>14</th>\n",
       "      <td>11</td>\n",
       "      <td>280</td>\n",
       "      <td>Pulmonary thromboembolism</td>\n",
       "      <td>54</td>\n",
       "      <td>male</td>\n",
       "    </tr>\n",
       "    <tr>\n",
       "      <th>15</th>\n",
       "      <td>12</td>\n",
       "      <td>255</td>\n",
       "      <td>Bypass-Thrombosis</td>\n",
       "      <td>85</td>\n",
       "      <td>male</td>\n",
       "    </tr>\n",
       "    <tr>\n",
       "      <th>16</th>\n",
       "      <td>13</td>\n",
       "      <td>142</td>\n",
       "      <td>Pulmonary thromboembolism</td>\n",
       "      <td>75</td>\n",
       "      <td>male</td>\n",
       "    </tr>\n",
       "    <tr>\n",
       "      <th>19</th>\n",
       "      <td>14</td>\n",
       "      <td>466</td>\n",
       "      <td>Acute myocardial infarction</td>\n",
       "      <td>71</td>\n",
       "      <td>male</td>\n",
       "    </tr>\n",
       "    <tr>\n",
       "      <th>10</th>\n",
       "      <td>15</td>\n",
       "      <td>180</td>\n",
       "      <td>Hypothermia</td>\n",
       "      <td>95</td>\n",
       "      <td>female</td>\n",
       "    </tr>\n",
       "    <tr>\n",
       "      <th>9</th>\n",
       "      <td>16</td>\n",
       "      <td>300</td>\n",
       "      <td>Acute heart failure</td>\n",
       "      <td>91</td>\n",
       "      <td>female</td>\n",
       "    </tr>\n",
       "    <tr>\n",
       "      <th>11</th>\n",
       "      <td>17</td>\n",
       "      <td>217</td>\n",
       "      <td>Acute heart failure</td>\n",
       "      <td>72</td>\n",
       "      <td>male</td>\n",
       "    </tr>\n",
       "    <tr>\n",
       "      <th>12</th>\n",
       "      <td>18</td>\n",
       "      <td>134</td>\n",
       "      <td>Intoxication</td>\n",
       "      <td>25</td>\n",
       "      <td>male</td>\n",
       "    </tr>\n",
       "    <tr>\n",
       "      <th>18</th>\n",
       "      <td>19</td>\n",
       "      <td>258</td>\n",
       "      <td>Traumatic brain injury</td>\n",
       "      <td>63</td>\n",
       "      <td>male</td>\n",
       "    </tr>\n",
       "    <tr>\n",
       "      <th>17</th>\n",
       "      <td>20</td>\n",
       "      <td>220</td>\n",
       "      <td>Intracerebral bleeding</td>\n",
       "      <td>46</td>\n",
       "      <td>female</td>\n",
       "    </tr>\n",
       "  </tbody>\n",
       "</table>\n",
       "</div>"
      ],
      "text/plain": [
       "    sample num  PMI (h)                                     Cause of death  \\\n",
       "0            1       36                      Asphyxiaton (Hanging/suicide)   \n",
       "1            2       36             Dissection of aorta (Traffic accident)   \n",
       "2            3       18          Asphyxiaton (possible anaphylactic shock)   \n",
       "3            4       36                        Hemorrhagic shock (Suicide)   \n",
       "4            5       26  Hemorrhagic shock (complication during central...   \n",
       "5            6       28                              Polytrauma (Accident)   \n",
       "6            7       17                              Myocardial infarction   \n",
       "7            8       27           Head shot (Suicide) possible M.Parkinson   \n",
       "8            9       29                                  Hanging (suicide)   \n",
       "13          10      325                                          Pneumonia   \n",
       "14          11      280                          Pulmonary thromboembolism   \n",
       "15          12      255                                  Bypass-Thrombosis   \n",
       "16          13      142                          Pulmonary thromboembolism   \n",
       "19          14      466                        Acute myocardial infarction   \n",
       "10          15      180                                        Hypothermia   \n",
       "9           16      300                                Acute heart failure   \n",
       "11          17      217                                Acute heart failure   \n",
       "12          18      134                                       Intoxication   \n",
       "18          19      258                            Traumatic brain injury    \n",
       "17          20      220                             Intracerebral bleeding   \n",
       "\n",
       "    age (years)     sex  \n",
       "0            23    male  \n",
       "1            56    male  \n",
       "2            56    male  \n",
       "3            86    male  \n",
       "4            77  female  \n",
       "5            70    male  \n",
       "6            69    male  \n",
       "7            92    male  \n",
       "8            39  female  \n",
       "13           73  female  \n",
       "14           54    male  \n",
       "15           85    male  \n",
       "16           75    male  \n",
       "19           71    male  \n",
       "10           95  female  \n",
       "9            91  female  \n",
       "11           72    male  \n",
       "12           25    male  \n",
       "18           63    male  \n",
       "17           46  female  "
      ]
     },
     "execution_count": 41,
     "metadata": {},
     "output_type": "execute_result"
    }
   ],
   "source": [
    "samples_info = pd.DataFrame()\n",
    "samples_info[\"sample num\"] = [1, 2, 3, 4, 5, 6, 7, 8, 9,\n",
    "                             16, 15, 17, 18, 10, 11, 12, 13, 20, 19, 14,\n",
    "                             ]\n",
    "samples_info[\"PMI (h)\"] = [36, 36, 18, 36, 26, 28, 17, 27, 29,\n",
    "                           300, 180, 217, 134, 325, 280, 255, 142, 220, 258, 466,\n",
    "                          ]\n",
    "samples_info[\"Cause of death\"] = [\n",
    "    \"Asphyxiaton (Hanging/suicide)\",\n",
    "    \"Dissection of aorta (Traffic accident)\",\n",
    "    \"Asphyxiaton (possible anaphylactic shock)\",\n",
    "    \"Hemorrhagic shock (Suicide)\",\n",
    "    \"Hemorrhagic shock (complication during central venous cathederization)\",\n",
    "    \"Polytrauma (Accident)\",\n",
    "    \"Myocardial infarction\",\n",
    "    \"Head shot (Suicide) possible M.Parkinson\",\n",
    "    \"Hanging (suicide)\",\n",
    "    \"Acute heart failure\",\n",
    "    \"Hypothermia\",\n",
    "    \"Acute heart failure\",\n",
    "    \"Intoxication\",\n",
    "    \"Pneumonia\",\n",
    "    \"Pulmonary thromboembolism\",\n",
    "    \"Bypass-Thrombosis\",\n",
    "    \"Pulmonary thromboembolism\",\n",
    "    \"Intracerebral bleeding\",\n",
    "    \"Traumatic brain injury \",\n",
    "    \"Acute myocardial infarction\",\n",
    "]\n",
    "samples_info[\"Cause of death\"] = samples_info[\"Cause of death\"].astype(str)\n",
    "samples_info[\"age (years)\"] = [\n",
    "    23, 56, 56, 86, 77, 70, 69, 92, 39,\n",
    "    91, 95, 72, 25, 73, 54, 85, 75, 46, 63, 71,\n",
    "]\n",
    "samples_info[\"sex\"] = [\"male\", \"male\", \"male\", \"male\", \"female\", \"male\", \"male\", \"male\", \"female\",\n",
    "                       \"female\", \"female\", \"male\", \"male\", \"female\", \"male\", \"male\", \"male\", \"female\", \"male\", \"male\"\n",
    "                      ]\n",
    "\n",
    "samples_info = samples_info.sort_values(by=['sample num'])\n",
    "\n",
    "\n",
    "\n",
    "samples_info"
   ]
  },
  {
   "cell_type": "code",
   "execution_count": 42,
   "id": "b5cc7ff6",
   "metadata": {},
   "outputs": [],
   "source": [
    "age = np.array([], dtype=int)\n",
    "pmi = np.array([], dtype=int)\n",
    "cause_of_death = np.array([])\n",
    "sex = np.array([])\n",
    "\n",
    "for s in adata.obs[\"sample\"]:\n",
    "    s_info = samples_info[samples_info[\"sample num\"] == int(s)]    \n",
    "    age = np.append(age, s_info[\"age (years)\"].values[0])\n",
    "    pmi = np.append(pmi, s_info[\"PMI (h)\"].values[0])\n",
    "    cause_of_death = np.append(cause_of_death, s_info[\"Cause of death\"].values[0])\n",
    "    sex = np.append(sex, s_info[\"sex\"].values[0])\n",
    "    \n",
    "    \n",
    "adata_knn.obs[\"age\"] = age\n",
    "adata_knn.obs[\"cause_of_death\"] = cause_of_death\n",
    "adata_knn.obs[\"pmi\"] = pmi\n",
    "adata_knn.obs[\"sex\"] = sex"
   ]
  },
  {
   "cell_type": "markdown",
   "id": "b95b4be0",
   "metadata": {},
   "source": [
    "### data intergation\n",
    "- to correct for samples coming from different runs."
   ]
  },
  {
   "cell_type": "code",
   "execution_count": 164,
   "id": "418a1fef",
   "metadata": {},
   "outputs": [
    {
     "name": "stderr",
     "output_type": "stream",
     "text": [
      "/Users/mayar.ali/opt/anaconda3/envs/proteomics/lib/python3.8/site-packages/scanpy/preprocessing/_combat.py:340: RuntimeWarning: divide by zero encountered in divide\n",
      "  (abs(g_new - g_old) / g_old).max(), (abs(d_new - d_old) / d_old).max()\n"
     ]
    }
   ],
   "source": [
    "sc.pp.combat(adata_knn, key=\"sample\")"
   ]
  }
 ],
 "metadata": {
  "kernelspec": {
   "display_name": "Python 3 (ipykernel)",
   "language": "python",
   "name": "python3"
  },
  "language_info": {
   "codemirror_mode": {
    "name": "ipython",
    "version": 3
   },
   "file_extension": ".py",
   "mimetype": "text/x-python",
   "name": "python",
   "nbconvert_exporter": "python",
   "pygments_lexer": "ipython3",
   "version": "3.8.8"
  }
 },
 "nbformat": 4,
 "nbformat_minor": 5
}
