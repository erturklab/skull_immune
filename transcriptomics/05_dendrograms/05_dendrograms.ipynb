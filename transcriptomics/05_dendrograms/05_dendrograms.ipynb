{
 "cells": [
  {
   "cell_type": "code",
   "execution_count": 6,
   "id": "eight-lancaster",
   "metadata": {},
   "outputs": [],
   "source": [
    "DATA_DIR = '/lustre/groups/ml01/workspace/louis.kuemmerle/projects/A1/data2/' # \"./../\"\n",
    "DATA_VERSION = 'oct22'\n",
    "RESULTS_DIR = '/lustre/groups/ml01/workspace/louis.kuemmerle/projects/A1/results/'\n",
    "SHAM = True\n",
    "\n",
    "########################################################################################\n",
    "sham_str = '_wSham' if SHAM else ''"
   ]
  },
  {
   "attachments": {},
   "cell_type": "markdown",
   "id": "prerequisite-nature",
   "metadata": {},
   "source": [
    "# Dendrograms\n"
   ]
  },
  {
   "cell_type": "code",
   "execution_count": 2,
   "id": "partial-nylon",
   "metadata": {},
   "outputs": [
    {
     "name": "stdout",
     "output_type": "stream",
     "text": [
      "-----\n",
      "anndata     0.8.0\n",
      "scanpy      1.9.1\n",
      "-----\n",
      "PIL                 8.3.2\n",
      "appnope             0.1.3\n",
      "asttokens           NA\n",
      "backcall            0.2.0\n",
      "beta_ufunc          NA\n",
      "binom_ufunc         NA\n",
      "cffi                1.15.1\n",
      "colorama            0.4.6\n",
      "cycler              0.10.0\n",
      "cython_runtime      NA\n",
      "dateutil            2.8.2\n",
      "debugpy             1.6.3\n",
      "decorator           5.1.1\n",
      "defusedxml          0.7.1\n",
      "entrypoints         0.4\n",
      "executing           1.2.0\n",
      "h5py                3.7.0\n",
      "hypergeom_ufunc     NA\n",
      "igraph              0.9.11\n",
      "ipykernel           6.17.1\n",
      "ipython_genutils    0.2.0\n",
      "jedi                0.18.1\n",
      "joblib              1.2.0\n",
      "jupyter_server      1.23.2\n",
      "kiwisolver          1.4.4\n",
      "leidenalg           0.8.10\n",
      "llvmlite            0.36.0\n",
      "matplotlib          3.5.3\n",
      "mpl_toolkits        NA\n",
      "natsort             8.2.0\n",
      "nbinom_ufunc        NA\n",
      "ncf_ufunc           NA\n",
      "numba               0.53.1\n",
      "numpy               1.23.4\n",
      "packaging           21.3\n",
      "pandas              1.5.1\n",
      "parso               0.8.3\n",
      "pexpect             4.8.0\n",
      "pickleshare         0.7.5\n",
      "pkg_resources       NA\n",
      "platformdirs        2.5.2\n",
      "prompt_toolkit      3.0.32\n",
      "psutil              5.9.4\n",
      "ptyprocess          0.7.0\n",
      "pure_eval           0.2.2\n",
      "pydev_ipython       NA\n",
      "pydevconsole        NA\n",
      "pydevd              2.8.0\n",
      "pydevd_file_utils   NA\n",
      "pydevd_plugins      NA\n",
      "pydevd_tracing      NA\n",
      "pyexpat             NA\n",
      "pygments            2.13.0\n",
      "pyparsing           3.0.9\n",
      "pytz                2022.6\n",
      "scipy               1.9.3\n",
      "seaborn             0.12.1\n",
      "session_info        1.0.0\n",
      "setuptools          65.5.0\n",
      "six                 1.16.0\n",
      "sklearn             1.1.3\n",
      "stack_data          0.6.1\n",
      "statsmodels         0.13.5\n",
      "texttable           1.6.4\n",
      "threadpoolctl       3.1.0\n",
      "tornado             6.2\n",
      "traitlets           5.5.0\n",
      "typing_extensions   NA\n",
      "wcwidth             0.2.5\n",
      "zipp                NA\n",
      "zmq                 24.0.1\n",
      "-----\n",
      "IPython             8.6.0\n",
      "jupyter_client      7.4.7\n",
      "jupyter_core        5.0.0\n",
      "jupyterlab          3.5.0\n",
      "notebook            6.5.2\n",
      "-----\n",
      "Python 3.9.7 (default, Sep 16 2021, 08:50:36) [Clang 10.0.0 ]\n",
      "macOS-10.16-x86_64-i386-64bit\n",
      "-----\n",
      "Session information updated at 2023-04-13 18:02\n"
     ]
    }
   ],
   "source": [
    "import os \n",
    "import numpy as np\n",
    "import pandas as pd\n",
    "import seaborn as sns\n",
    "import matplotlib.pyplot as plt\n",
    "\n",
    "import scanpy as sc\n",
    "import anndata as ann\n",
    "\n",
    "from scipy.sparse import csr_matrix\n",
    "from matplotlib import rcParams\n",
    "from matplotlib import colors\n",
    "\n",
    "import datetime\n",
    "\n",
    "#plt.rcParams['figure.dpi'] = 300\n",
    "\n",
    "sc.logging.print_versions()"
   ]
  },
  {
   "attachments": {},
   "cell_type": "markdown",
   "id": "difficult-taylor",
   "metadata": {},
   "source": [
    "# Dendrograms\n",
    "Compute dendrograms on full dataset under each condition (Naive, Sham, MCAO)"
   ]
  },
  {
   "cell_type": "code",
   "execution_count": 4,
   "id": "dangerous-behavior",
   "metadata": {},
   "outputs": [],
   "source": [
    "plt.rcParams['figure.dpi'] = 100\n",
    "\n",
    "SMALL_SIZE = 17\n",
    "MEDIUM_SIZE = 19\n",
    "BIGGER_SIZE = 21\n",
    "\n",
    "plt.rc('font', size=SMALL_SIZE)          # controls default text sizes\n",
    "plt.rc('axes', titlesize=SMALL_SIZE)     # fontsize of the axes title\n",
    "plt.rc('axes', labelsize=MEDIUM_SIZE)    # fontsize of the x and y labels\n",
    "plt.rc('xtick', labelsize=SMALL_SIZE)    # fontsize of the tick labels\n",
    "plt.rc('ytick', labelsize=SMALL_SIZE)    # fontsize of the tick labels\n",
    "plt.rc('legend', fontsize=SMALL_SIZE)    # legend fontsize\n",
    "plt.rc('figure', titlesize=BIGGER_SIZE)  # fontsize of the figure title"
   ]
  },
  {
   "cell_type": "code",
   "execution_count": 7,
   "id": "latin-pharmaceutical",
   "metadata": {},
   "outputs": [],
   "source": [
    "adata = sc.read(DATA_DIR+f'cellxgene_{DATA_VERSION}{sham_str}_umaps.h5ad')"
   ]
  },
  {
   "cell_type": "code",
   "execution_count": 8,
   "id": "bfef7bc2",
   "metadata": {},
   "outputs": [],
   "source": [
    "adata.obs['region'] = adata.obs['region'].cat.rename_categories({'Skull':'Calvaria'})"
   ]
  },
  {
   "cell_type": "markdown",
   "id": "colored-provider",
   "metadata": {},
   "source": [
    "### All regions"
   ]
  },
  {
   "cell_type": "markdown",
   "id": "human-silicon",
   "metadata": {},
   "source": [
    "### Bones only"
   ]
  },
  {
   "cell_type": "code",
   "execution_count": 10,
   "id": "smart-range",
   "metadata": {},
   "outputs": [],
   "source": [
    "bones = ['Calvaria','Vertebra','Scapula','Humerus','Pelvis','Femur']"
   ]
  },
  {
   "cell_type": "markdown",
   "id": "assigned-nancy",
   "metadata": {},
   "source": [
    "#### All conditions"
   ]
  },
  {
   "cell_type": "code",
   "execution_count": 11,
   "id": "above-patrol",
   "metadata": {},
   "outputs": [
    {
     "name": "stderr",
     "output_type": "stream",
     "text": [
      "/Users/louis.kuemmerle/opt/anaconda3/envs/bioinfo/lib/python3.9/site-packages/anndata/compat/_overloaded_dict.py:106: ImplicitModificationWarning: Trying to modify attribute `._uns` of view, initializing view as actual.\n",
      "  self.data[key] = value\n"
     ]
    },
    {
     "name": "stdout",
     "output_type": "stream",
     "text": [
      "WARNING: saving figure to file figures/dendrogram_bones_AllConditions.png\n"
     ]
    },
    {
     "data": {
      "image/png": "[encoded data removed]",
      "text/plain": [
       "<Figure size 640x480 with 1 Axes>"
      ]
     },
     "metadata": {},
     "output_type": "display_data"
    },
    {
     "data": {
      "text/plain": [
       "<AxesSubplot:>"
      ]
     },
     "execution_count": 11,
     "metadata": {},
     "output_type": "execute_result"
    }
   ],
   "source": [
    "a = adata.copy()\n",
    "a = a[np.in1d(a.obs['region'],bones),:]\n",
    "sc.tl.dendrogram(a,'region')\n",
    "sc.pl.dendrogram(a,'region',save='_bones_AllConditions.png')"
   ]
  },
  {
   "cell_type": "markdown",
   "id": "presidential-taylor",
   "metadata": {},
   "source": [
    "#### Naive/Sham/MCAO subsets"
   ]
  },
  {
   "cell_type": "code",
   "execution_count": 12,
   "id": "subject-victory",
   "metadata": {},
   "outputs": [
    {
     "name": "stdout",
     "output_type": "stream",
     "text": [
      "~~~ condition Naive ~~~\n",
      "WARNING: saving figure to file figures/dendrogram_bones_Naive_v2.png\n"
     ]
    },
    {
     "data": {
      "image/png": "[encoded data removed]",
      "text/plain": [
       "<Figure size 640x480 with 1 Axes>"
      ]
     },
     "metadata": {},
     "output_type": "display_data"
    },
    {
     "name": "stdout",
     "output_type": "stream",
     "text": [
      "~~~ condition Sham ~~~\n",
      "WARNING: saving figure to file figures/dendrogram_bones_Sham_v2.png\n"
     ]
    },
    {
     "data": {
      "image/png": "[encoded data removed]",
      "text/plain": [
       "<Figure size 640x480 with 1 Axes>"
      ]
     },
     "metadata": {},
     "output_type": "display_data"
    },
    {
     "name": "stdout",
     "output_type": "stream",
     "text": [
      "~~~ condition MCAO ~~~\n",
      "WARNING: saving figure to file figures/dendrogram_bones_MCAO_v2.png\n"
     ]
    },
    {
     "data": {
      "image/png": "[encoded data removed]",
      "text/plain": [
       "<Figure size 640x480 with 1 Axes>"
      ]
     },
     "metadata": {},
     "output_type": "display_data"
    }
   ],
   "source": [
    "for c in ['Naive','Sham','MCAO']:\n",
    "    print(f\"~~~ condition {c} ~~~\")    \n",
    "    a = ann.AnnData(X=adata.X,obs=adata.obs[['region','condition']],var=adata.var[['highly_variable']])\n",
    "    a = a[np.in1d(a.obs['region'],bones),:]\n",
    "    a = a[a.obs['condition'] == c,:]\n",
    "    sc.pp.pca(a)\n",
    "    sc.tl.dendrogram(a,'region')\n",
    "    sc.pl.dendrogram(a,'region',save=f'_bones_{c}_v2.png')\n",
    "del a"
   ]
  },
  {
   "cell_type": "code",
   "execution_count": null,
   "id": "intense-assessment",
   "metadata": {},
   "outputs": [],
   "source": []
  }
 ],
 "metadata": {
  "kernelspec": {
   "display_name": "Python 3",
   "language": "python",
   "name": "python3"
  },
  "language_info": {
   "codemirror_mode": {
    "name": "ipython",
    "version": 3
   },
   "file_extension": ".py",
   "mimetype": "text/x-python",
   "name": "python",
   "nbconvert_exporter": "python",
   "pygments_lexer": "ipython3",
   "version": "3.9.7"
  }
 },
 "nbformat": 4,
 "nbformat_minor": 5
}
