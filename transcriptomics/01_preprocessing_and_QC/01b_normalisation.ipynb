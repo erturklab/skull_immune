{
 "cells": [
  {
   "cell_type": "code",
   "execution_count": 1,
   "metadata": {},
   "outputs": [],
   "source": [
    "DATA_DIR = '/storage/groups/ml01/workspace/louis.kuemmerle/projects/A1/data2/'\n",
    "DATA_VERSION = 'april21'"
   ]
  },
  {
   "cell_type": "code",
   "execution_count": 2,
   "metadata": {
    "collapsed": false,
    "jupyter": {
     "outputs_hidden": false
    }
   },
   "outputs": [
    {
     "name": "stdout",
     "output_type": "stream",
     "text": [
      "WARNING: If you miss a compact list, please try `print_header`!\n",
      "-----\n",
      "anndata     0.7.5\n",
      "scanpy      1.6.1\n",
      "sinfo       0.3.1\n",
      "-----\n",
      "PIL                 8.1.0\n",
      "anndata             0.7.5\n",
      "anyio               NA\n",
      "attr                20.3.0\n",
      "babel               2.9.0\n",
      "backcall            0.2.0\n",
      "brotli              1.0.9\n",
      "certifi             2020.12.05\n",
      "cffi                1.14.4\n",
      "chardet             4.0.0\n",
      "cloudpickle         1.6.0\n",
      "constants           NA\n",
      "cycler              0.10.0\n",
      "cython_runtime      NA\n",
      "dask                2020.12.0\n",
      "dateutil            2.8.1\n",
      "decorator           4.4.2\n",
      "future_fstrings     NA\n",
      "get_version         2.1\n",
      "google              NA\n",
      "h5py                2.10.0\n",
      "highs_wrapper       NA\n",
      "idna                2.10\n",
      "igraph              0.8.3\n",
      "ipykernel           5.4.3\n",
      "ipython_genutils    0.2.0\n",
      "ipywidgets          7.6.3\n",
      "jedi                0.18.0\n",
      "jinja2              2.11.2\n",
      "joblib              1.0.0\n",
      "json5               NA\n",
      "jsonschema          3.2.0\n",
      "jupyter_server      1.2.1\n",
      "jupyterlab_server   2.1.2\n",
      "kiwisolver          1.3.1\n",
      "legacy_api_wrap     1.2\n",
      "leidenalg           0.8.3\n",
      "llvmlite            0.35.0\n",
      "louvain             0.7.0\n",
      "markupsafe          1.1.1\n",
      "matplotlib          3.3.3\n",
      "mpl_toolkits        NA\n",
      "natsort             7.1.0\n",
      "nbclassic           NA\n",
      "nbformat            5.1.1\n",
      "numba               0.52.0\n",
      "numexpr             2.7.2\n",
      "numpy               1.19.5\n",
      "packaging           20.8\n",
      "pandas              1.2.0\n",
      "parso               0.8.1\n",
      "pexpect             4.8.0\n",
      "pickleshare         0.7.5\n",
      "pkg_resources       NA\n",
      "prometheus_client   NA\n",
      "prompt_toolkit      3.0.10\n",
      "ptyprocess          0.7.0\n",
      "pvectorc            NA\n",
      "pygments            2.7.4\n",
      "pyparsing           2.4.7\n",
      "pyrsistent          NA\n",
      "pytz                2020.5\n",
      "requests            2.25.1\n",
      "scanpy              1.6.1\n",
      "scipy               1.6.0\n",
      "seaborn             0.11.1\n",
      "send2trash          NA\n",
      "setuptools_scm      NA\n",
      "sinfo               0.3.1\n",
      "six                 1.15.0\n",
      "sklearn             0.24.0\n",
      "sniffio             1.2.0\n",
      "sparse              0.11.2\n",
      "statsmodels         0.12.1\n",
      "storemagic          NA\n",
      "tables              3.6.1\n",
      "texttable           1.6.3\n",
      "tlz                 0.11.1\n",
      "toolz               0.11.1\n",
      "tornado             6.1\n",
      "traitlets           5.0.5\n",
      "typing_extensions   NA\n",
      "urllib3             1.26.2\n",
      "wcwidth             0.2.5\n",
      "yaml                5.3.1\n",
      "zmq                 21.0.0\n",
      "-----\n",
      "IPython             7.19.0\n",
      "jupyter_client      6.1.11\n",
      "jupyter_core        4.7.0\n",
      "jupyterlab          3.0.4\n",
      "notebook            6.2.0\n",
      "-----\n",
      "Python 3.8.6 (default, Jan 14 2021, 17:39:54) [GCC 8.3.0]\n",
      "Linux-3.10.0-1062.el7.x86_64-x86_64-with-glibc2.28\n",
      "16 logical CPU cores\n",
      "-----\n",
      "Session information updated at 2021-04-21 22:13\n",
      "\n"
     ]
    }
   ],
   "source": [
    "import os \n",
    "import numpy as np\n",
    "import scipy as sci\n",
    "import pandas as pd\n",
    "import seaborn as sb\n",
    "import matplotlib.pyplot as pl\n",
    "\n",
    "import scanpy as sc\n",
    "import anndata as ann\n",
    "\n",
    "from scipy.sparse import csr_matrix\n",
    "from matplotlib import rcParams\n",
    "from matplotlib import colors\n",
    "\n",
    "\n",
    "sc.settings.verbosity = 3\n",
    "sc.logging.print_versions()"
   ]
  },
  {
   "cell_type": "code",
   "execution_count": 3,
   "metadata": {},
   "outputs": [],
   "source": [
    "sc.settings.set_figure_params(dpi=70)\n",
    "sc.settings.verbosity = 3\n",
    "sc.settings.n_jobs = 3\n",
    "sc.set_figure_params(vector_friendly=True,color_map='viridis',dpi_save=600,transparent=True)"
   ]
  },
  {
   "cell_type": "code",
   "execution_count": 4,
   "metadata": {},
   "outputs": [
    {
     "name": "stderr",
     "output_type": "stream",
     "text": [
      "dirname: Trying to get version of anndata2ri from dirname /opt/python/lib/python3.8/site-packages\n",
      "dirname: Failed; Does not match re.compile('anndata2ri-([\\\\d.]+?)(?:\\\\.dev(\\\\d+))?(?:[_+-]([0-9a-zA-Z.]+))?$')\n",
      "git: Trying to get version from git in directory /opt/python/lib/python3.8/site-packages\n",
      "git: Failed; directory is not managed by git\n",
      "metadata: Trying to get version for anndata2ri in dir /opt/python/lib/python3.8/site-packages\n",
      "metadata: Succeeded\n"
     ]
    }
   ],
   "source": [
    "import rpy2.rinterface_lib.callbacks\n",
    "import logging\n",
    "\n",
    "from rpy2.robjects import pandas2ri\n",
    "import anndata2ri"
   ]
  },
  {
   "cell_type": "code",
   "execution_count": 5,
   "metadata": {},
   "outputs": [],
   "source": [
    "rpy2.rinterface_lib.callbacks.logger.setLevel(logging.ERROR)\n",
    "\n",
    "# Automatically convert rpy2 outputs to pandas dataframes\n",
    "pandas2ri.activate()\n",
    "anndata2ri.activate()\n",
    "%load_ext rpy2.ipython"
   ]
  },
  {
   "cell_type": "markdown",
   "metadata": {},
   "source": [
    "# Introduction\n",
    "\n",
    "In this notebook, we preprocess Ali Ertürk's skull data. The full dataset consists of 24 samples from various sources in the mouse skeleton.\n",
    "\n",
    "We perform the following steps:\n",
    "1. Load the data\n",
    "2. Normalize with scran\n",
    "3. Examine batch effects\n",
    "4. Save to file "
   ]
  },
  {
   "attachments": {},
   "cell_type": "markdown",
   "metadata": {},
   "source": [
    "The following dictionary is extracted from the sample table and contains the origin of each sample (*i.e.* skull, pelvis, femur etc.) and the corresponding condition (MCAo, Naive)."
   ]
  },
  {
   "cell_type": "markdown",
   "metadata": {},
   "source": [
    "# Read the data"
   ]
  },
  {
   "cell_type": "code",
   "execution_count": 6,
   "metadata": {},
   "outputs": [],
   "source": [
    "adata_tmp = sc.read(DATA_DIR+f'tmp_{DATA_VERSION}_wSham.h5ad')"
   ]
  },
  {
   "cell_type": "code",
   "execution_count": 7,
   "metadata": {},
   "outputs": [],
   "source": [
    "adata = sc.read(DATA_DIR+f'adata_counts_postQC_{DATA_VERSION}_wSham.h5ad')"
   ]
  },
  {
   "cell_type": "markdown",
   "metadata": {},
   "source": [
    "Show content of the `anndata` objects."
   ]
  },
  {
   "cell_type": "code",
   "execution_count": 8,
   "metadata": {},
   "outputs": [
    {
     "data": {
      "text/plain": [
       "AnnData object with n_obs × n_vars = 147347 × 17101\n",
       "    obs: 'sample_id', 'batch', 'sample_name', 'region', 'condition', 'n_counts', 'log_counts', 'n_genes', 'mt_fraction'\n",
       "    uns: 'sample_name_colors'"
      ]
     },
     "execution_count": 8,
     "metadata": {},
     "output_type": "execute_result"
    }
   ],
   "source": [
    "adata"
   ]
  },
  {
   "cell_type": "code",
   "execution_count": 9,
   "metadata": {},
   "outputs": [
    {
     "data": {
      "text/plain": [
       "AnnData object with n_obs × n_vars = 147347 × 17101\n",
       "    obs: 'sample_id', 'batch', 'sample_name', 'region', 'condition', 'n_counts', 'log_counts', 'n_genes', 'mt_fraction', 'doublet_score', 'doublet', 'leiden'\n",
       "    var: 'n_cells'\n",
       "    uns: 'condition_colors', 'leiden', 'leiden_colors', 'neighbors', 'pca', 'region_colors', 'sample_name_colors', 'umap'\n",
       "    obsm: 'X_pca', 'X_umap'\n",
       "    varm: 'PCs'\n",
       "    obsp: 'connectivities', 'distances'"
      ]
     },
     "execution_count": 9,
     "metadata": {},
     "output_type": "execute_result"
    }
   ],
   "source": [
    "adata_tmp"
   ]
  },
  {
   "cell_type": "markdown",
   "metadata": {},
   "source": [
    "# Normalisation"
   ]
  },
  {
   "cell_type": "markdown",
   "metadata": {},
   "source": [
    "We perform the normalisation jointly on all data. We already computed a leiden clustering in the preprocessing notebook. "
   ]
  },
  {
   "cell_type": "code",
   "execution_count": 10,
   "metadata": {},
   "outputs": [],
   "source": [
    "%%R\n",
    "#change libPaths\n",
    ".libPaths(.libPaths()[c(2,1)])\n",
    "\n",
    "# Load all the R libraries we will be using in the notebook\n",
    "library(scran)"
   ]
  },
  {
   "cell_type": "markdown",
   "metadata": {},
   "source": [
    "Before running scran, we have to check whether all clusters are large enough to estimate a size factor. "
   ]
  },
  {
   "cell_type": "code",
   "execution_count": 11,
   "metadata": {},
   "outputs": [
    {
     "data": {
      "text/plain": [
       "0     17549\n",
       "1     17423\n",
       "2     16020\n",
       "3     14230\n",
       "4      9411\n",
       "5      8405\n",
       "6      7291\n",
       "7      6959\n",
       "8      6516\n",
       "9      6445\n",
       "10     5592\n",
       "11     5260\n",
       "12     5208\n",
       "13     2442\n",
       "14     2358\n",
       "15     2321\n",
       "16     2112\n",
       "17     2097\n",
       "18     1992\n",
       "19     1821\n",
       "20     1726\n",
       "21      906\n",
       "22      905\n",
       "23      847\n",
       "24      673\n",
       "25      415\n",
       "26      320\n",
       "27      103\n",
       "Name: leiden, dtype: int64"
      ]
     },
     "execution_count": 11,
     "metadata": {},
     "output_type": "execute_result"
    }
   ],
   "source": [
    "adata_tmp.obs['leiden'].value_counts()"
   ]
  },
  {
   "cell_type": "markdown",
   "metadata": {},
   "source": [
    "Here (with Sham): We don't observe clusters with less than 100 cells. Therefore we don't need to merge clusters"
   ]
  },
  {
   "cell_type": "raw",
   "metadata": {},
   "source": [
    "sc.tl.paga(adata_tmp, groups='leiden')"
   ]
  },
  {
   "cell_type": "raw",
   "metadata": {},
   "source": [
    "rcParams['figure.figsize']=(7,7)\n",
    "sc.pl.paga(adata_tmp, edge_width_scale=1)"
   ]
  },
  {
   "cell_type": "raw",
   "metadata": {},
   "source": [
    "sc.pl.violin(adata_tmp[np.in1d(adata_tmp.obs['leiden'],['21', '29'])], \n",
    "             ['n_counts'], groupby='leiden',\n",
    "             size=1, log=False,rotation=90)"
   ]
  },
  {
   "cell_type": "code",
   "execution_count": 12,
   "metadata": {},
   "outputs": [],
   "source": [
    "adata_tmp.obs['groups'] = adata_tmp.obs['leiden']\n",
    "#adata_tmp.obs['groups'][adata_tmp.obs['leiden']=='29'] = '21'\n",
    "adata_tmp.obs['groups'] = adata_tmp.obs['groups'].cat.remove_unused_categories()"
   ]
  },
  {
   "cell_type": "markdown",
   "metadata": {},
   "source": [
    "## Run scran normalisation for all samples"
   ]
  },
  {
   "cell_type": "code",
   "execution_count": 13,
   "metadata": {},
   "outputs": [],
   "source": [
    "#Preprocess variables for scran normalization\n",
    "input_groups = adata_tmp.obs['groups']\n",
    "data_mat = adata_tmp.X.T"
   ]
  },
  {
   "cell_type": "code",
   "execution_count": null,
   "metadata": {},
   "outputs": [],
   "source": [
    "%%R -i data_mat -i input_groups -o size_factors\n",
    "\n",
    "# For Bioc version <= 3.10\n",
    "#size_factors = computeSumFactors(data_mat, clusters=input_groups, min.mean=0.1)\n",
    "# For Bioc version = 3.11\n",
    "size_factors = computeSumFactors(SingleCellExperiment::SingleCellExperiment(list(counts=data_mat)), clusters =input_groups, min.mean=0.1)"
   ]
  },
  {
   "cell_type": "markdown",
   "metadata": {},
   "source": [
    "Assign size factors to original data set collection."
   ]
  },
  {
   "cell_type": "code",
   "execution_count": null,
   "metadata": {},
   "outputs": [],
   "source": [
    "# For Bioc version = 3.11\n",
    "size_factors = size_factors.obs.sizeFactor.values"
   ]
  },
  {
   "cell_type": "code",
   "execution_count": null,
   "metadata": {
    "collapsed": false,
    "jupyter": {
     "outputs_hidden": false
    }
   },
   "outputs": [],
   "source": [
    "# Visualize the estimated size factors\n",
    "adata_tmp.obs['size_factors'] = size_factors\n",
    "\n",
    "sc.pl.scatter(adata_tmp, 'size_factors', 'n_counts', color='groups')\n",
    "\n",
    "sb.distplot(size_factors, bins=50, kde=False)\n",
    "pl.show()"
   ]
  },
  {
   "cell_type": "markdown",
   "metadata": {},
   "source": [
    "## Scale data with size factors"
   ]
  },
  {
   "cell_type": "code",
   "execution_count": null,
   "metadata": {},
   "outputs": [],
   "source": [
    "adata.obs['size_factors'] = adata_tmp.obs['size_factors']"
   ]
  },
  {
   "cell_type": "code",
   "execution_count": null,
   "metadata": {
    "collapsed": false,
    "jupyter": {
     "outputs_hidden": false
    }
   },
   "outputs": [],
   "source": [
    "adata"
   ]
  },
  {
   "cell_type": "code",
   "execution_count": null,
   "metadata": {},
   "outputs": [],
   "source": [
    "#Normalize adata \n",
    "adata.X /= adata.obs['size_factors'].values[:,None]\n",
    "sc.pp.log1p(adata)"
   ]
  },
  {
   "cell_type": "code",
   "execution_count": null,
   "metadata": {},
   "outputs": [],
   "source": [
    "adata"
   ]
  },
  {
   "cell_type": "markdown",
   "metadata": {},
   "source": [
    "## Save to file"
   ]
  },
  {
   "cell_type": "code",
   "execution_count": null,
   "metadata": {},
   "outputs": [],
   "source": [
    "sc.write(adata=adata, filename=DATA_DIR+f'data_norm_{DATA_VERSION}_wSham.h5ad')"
   ]
  },
  {
   "cell_type": "code",
   "execution_count": null,
   "metadata": {},
   "outputs": [],
   "source": []
  }
 ],
 "metadata": {
  "kernelspec": {
   "display_name": "Python 3 (ipykernel)",
   "language": "python",
   "name": "python3"
  },
  "language_info": {
   "codemirror_mode": {
    "name": "ipython",
    "version": 3
   },
   "file_extension": ".py",
   "mimetype": "text/x-python",
   "name": "python",
   "nbconvert_exporter": "python",
   "pygments_lexer": "ipython3",
   "version": "3.8.12"
  },
  "latex_envs": {
   "bibliofile": "biblio.bib",
   "cite_by": "apalike",
   "current_citInitial": 1,
   "eqLabelWithNumbers": true,
   "eqNumInitial": 0
  },
  "toc": {
   "toc_cell": false,
   "toc_number_sections": true,
   "toc_section_display": "none",
   "toc_threshold": 6,
   "toc_window_display": true
  }
 },
 "nbformat": 4,
 "nbformat_minor": 4
}
