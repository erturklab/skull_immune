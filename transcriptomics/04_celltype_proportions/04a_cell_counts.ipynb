{
 "cells": [
  {
   "cell_type": "code",
   "execution_count": 1,
   "metadata": {},
   "outputs": [],
   "source": [
    "DATA_DIR = '/lustre/groups/ml01/workspace/louis.kuemmerle/projects/A1/data2/' # \"./../\"\n",
    "DATA_VERSION = 'oct22'\n",
    "RESULTS_DIR = '/lustre/groups/ml01/workspace/louis.kuemmerle/projects/A1/results/'\n",
    "SHAM = True\n",
    "\n",
    "########################################################################################\n",
    "sham_str = '_wSham' if SHAM else ''"
   ]
  },
  {
   "cell_type": "code",
   "execution_count": 49,
   "metadata": {},
   "outputs": [],
   "source": [
    "import numpy as np\n",
    "import pandas as pd\n",
    "import scanpy as sc\n",
    "from pathlib import Path"
   ]
  },
  {
   "attachments": {},
   "cell_type": "markdown",
   "metadata": {},
   "source": [
    "# Compute and save cell count tables for celltypes\n",
    "\n",
    "We generate cell count tables at:  \n",
    "`DATA_DIR+f'table_{DATA_VERSION}/cell_counts_{group}.csv'`  \n",
    "`DATA_DIR+f'table_{DATA_VERSION}/immune_only/cell_counts_{group}.csv'`  \n",
    "`DATA_DIR+f'table_{DATA_VERSION}/bones_pooled/cell_counts_{group}.csv'`  \n",
    "\n",
    "(these tables are needed for the proportion plots)"
   ]
  },
  {
   "cell_type": "code",
   "execution_count": 15,
   "metadata": {},
   "outputs": [],
   "source": [
    "#sham_str = '_wSham' if WITH_SHAM else ''\n",
    "adata = sc.read(DATA_DIR+f'cellxgene_{DATA_VERSION}{sham_str}_umaps.h5ad')"
   ]
  },
  {
   "cell_type": "code",
   "execution_count": 16,
   "metadata": {},
   "outputs": [],
   "source": [
    "# Rename Skull to Calvaria\n",
    "adata.obs[\"region\"].cat.rename_categories({'Skull': 'Calvaria'}, inplace=True)"
   ]
  },
  {
   "cell_type": "code",
   "execution_count": 5,
   "metadata": {},
   "outputs": [],
   "source": [
    "umap_groups = dict({'full set' : adata.obs['level1'].unique().tolist()},**adata.uns['umap_groups'])\n",
    "colors = {ct:color for ct,color in zip(adata.obs['level2'].cat.categories.tolist(),adata.uns['level2_colors'].tolist())}\n",
    "colors_full_set = {ct:color for ct,color in zip(adata.obs['level1'].cat.categories.tolist(),adata.uns['level1_colors'].tolist())}\n",
    "\n",
    "region_order = ['Brain','Meninges','Calvaria','Vertebra','Scapula','Humerus','Femur','Pelvis']\n",
    "#region_order = ['Brain','Meninges','Skull','Vertebra','Scapula','Humerus','Femur','Pelvis']\n",
    "# actually the reordering here did not change the plots (I needed to add reordering in the R script as well)\n",
    "\n",
    "for group, cts in umap_groups.items():\n",
    "    count_dfs = []\n",
    "    count_dfs_bones_only = []\n",
    "    count_dfs_bones_pooled = []\n",
    "    for c in ['Naive','Sham','MCAO']:\n",
    "        df = adata.obs.loc[(adata.obs['condition'] == c) & adata.obs['level1'].isin(cts)].copy()\n",
    "        key2 = 'level1' if (group == 'full set') else 'level2'\n",
    "        count_dfs.append(pd.crosstab(df['region'],df[key2]))\n",
    "        count_dfs[-1] = count_dfs[-1].loc[[r for r in region_order if (r in count_dfs[-1].index)]]\n",
    "        count_dfs[-1].columns = count_dfs[-1].columns.astype(str)\n",
    "        count_dfs_bones_only.append(count_dfs[-1].loc[[r for r in ['Calvaria','Vertebra','Scapula','Humerus','Femur','Pelvis'] if r in count_dfs[-1].index]].copy())\n",
    "        #count_dfs_bones_only.append(count_dfs[-1].loc[[r for r in ['Skull','Vertebra','Scapula','Humerus','Femur','Pelvis'] if r in count_dfs[-1].index]].copy())\n",
    "        count_dfs_bones_pooled.append(count_dfs[-1].loc[[r for r in ['Brain','Meninges'] if r in count_dfs[-1].index]].copy())\n",
    "        count_dfs_bones_pooled[-1].loc['Bones'] = count_dfs_bones_only[-1].sum(axis=0).values        \n",
    "        for dfs_tmp in [count_dfs,count_dfs_bones_only,count_dfs_bones_pooled]:\n",
    "            dfs_tmp[-1].reset_index(inplace=True)  \n",
    "            dfs_tmp[-1].columns.name = None\n",
    "            dfs_tmp[-1].insert(0, 'condition', c)\n",
    "    counts = pd.concat(count_dfs,ignore_index=True)\n",
    "    counts_bones_only = pd.concat(count_dfs_bones_only,ignore_index=True)\n",
    "    counts_bones_pooled = pd.concat(count_dfs_bones_pooled,ignore_index=True)\n",
    "    \n",
    "    #display(counts)\n",
    "    #display(counts_bones_only)\n",
    "    #display(counts_bones_pooled)\n",
    "    #break\n",
    "    \n",
    "    data_dir = DATA_DIR+f'table_{DATA_VERSION}/'\n",
    "    \n",
    "    Path(data_dir).mkdir(parents=True, exist_ok=True)\n",
    "    counts.to_csv(data_dir+f'cell_counts_{group}.csv')\n",
    "    \n",
    "    # We don't need this, we have an option in the plotting function to plot bones only\n",
    "    #Path(data_dir+'bones_only/').mkdir(parents=True, exist_ok=True)\n",
    "    #counts_bones_only.to_csv(data_dir+f'bones_only/cell_counts_{group}.csv')\n",
    "    \n",
    "    Path(data_dir+'bones_pooled/').mkdir(parents=True, exist_ok=True)\n",
    "    counts_bones_pooled.to_csv(data_dir+f'bones_pooled/cell_counts_{group}.csv')\n",
    "    \n",
    "    Path(data_dir+'colors/').mkdir(parents=True, exist_ok=True)\n",
    "    colors_tmp = colors_full_set if (group == 'full set') else colors\n",
    "    c_tmp = pd.DataFrame(data={'celltype':[col for col in counts.columns if col not in ['condition','region']],\n",
    "                               'color':[colors_tmp[ct] for ct in counts.columns  if ct not in ['condition','region']]})\n",
    "    c_tmp.to_csv(data_dir+f'colors/cell_counts_{group}.csv')"
   ]
  },
  {
   "cell_type": "markdown",
   "metadata": {},
   "source": [
    "#### immune cells only"
   ]
  },
  {
   "cell_type": "code",
   "execution_count": 22,
   "metadata": {},
   "outputs": [
    {
     "name": "stderr",
     "output_type": "stream",
     "text": [
      "/opt/python/lib/python3.8/site-packages/pandas/core/arrays/categorical.py:2487: FutureWarning: The `inplace` parameter in pandas.Categorical.remove_unused_categories is deprecated and will be removed in a future version.\n",
      "  res = method(*args, **kwargs)\n"
     ]
    }
   ],
   "source": [
    "exclude = ['erythroid precursor', 'erythroid cell', 'structural cell', 'brain cell']\n",
    "adata = adata[~adata.obs[\"level1\"].isin(exclude)]\n",
    "\n",
    "umap_groups = dict({'full set' : adata.obs['level1'].unique().tolist()},**adata.uns['umap_groups'])\n",
    "colors = {ct:color for ct,color in zip(adata.obs['level2'].cat.categories.tolist(),adata.uns['level2_colors'].tolist())}\n",
    "colors_full_set = {ct:color for ct,color in zip(adata.obs['level1'].cat.categories.tolist(),adata.uns['level1_colors'].tolist())}\n",
    "\n",
    "region_order = ['Brain','Meninges','Calvaria','Vertebra','Scapula','Humerus','Femur','Pelvis']\n",
    "#region_order = ['Brain','Meninges','Skull','Vertebra','Scapula','Humerus','Femur','Pelvis']\n",
    "# actually the reordering here did not change the plots (I needed to add reordering in the R script as well)\n",
    "\n",
    "for group, cts in umap_groups.items():\n",
    "    count_dfs = []\n",
    "    for c in ['Naive','Sham','MCAO']:\n",
    "        df = adata.obs.loc[(adata.obs['condition'] == c) & adata.obs['level1'].isin(cts)].copy()\n",
    "        if len(df) == 0:\n",
    "            continue\n",
    "        key2 = 'level1' if (group == 'full set') else 'level2'\n",
    "        count_dfs.append(pd.crosstab(df['region'],df[key2]))\n",
    "        count_dfs[-1] = count_dfs[-1].loc[[r for r in region_order if (r in count_dfs[-1].index)]]\n",
    "        count_dfs[-1].columns = count_dfs[-1].columns.astype(str)\n",
    "        for dfs_tmp in [count_dfs]:\n",
    "            dfs_tmp[-1].reset_index(inplace=True)\n",
    "            dfs_tmp[-1].columns.name = None\n",
    "            dfs_tmp[-1].insert(0, 'condition', c)\n",
    "\n",
    "    if len(count_dfs) == 0:\n",
    "        continue\n",
    "        \n",
    "    counts = pd.concat(count_dfs,ignore_index=True)\n",
    "    \n",
    "    data_dir = DATA_DIR+f'table_{DATA_VERSION}/'\n",
    "    \n",
    "    Path(data_dir+'immune_only/').mkdir(parents=True, exist_ok=True)\n",
    "    counts.to_csv(data_dir+f'immune_only/cell_counts_{group}.csv')\n",
    "    \n",
    "    #Path(data_dir+'colors/').mkdir(parents=True, exist_ok=True)\n",
    "    #colors_tmp = colors_full_set if (group == 'full set') else colors\n",
    "    #c_tmp = pd.DataFrame(data={'celltype':[col for col in counts.columns if col not in ['condition','region']],\n",
    "    #                           'color':[colors_tmp[ct] for ct in counts.columns  if ct not in ['condition','region']]})\n",
    "    #c_tmp.to_csv(data_dir+f'colors/cell_counts_{group}.csv')\n",
    "    \n",
    "\n",
    "# Delete adata since it was changed in this cell and shouldn't be used for other cells.\n",
    "#del adata"
   ]
  },
  {
   "attachments": {},
   "cell_type": "markdown",
   "metadata": {},
   "source": [
    "### Celltype percentage plots\n",
    "To produce the plots run `Rscript 02eS_cell_count_plots.R`. Eventually adjust the path variables at the beginning of `02eS_cell_count_plots.R`."
   ]
  },
  {
   "attachments": {},
   "cell_type": "markdown",
   "metadata": {},
   "source": [
    "# Cell count look up tables\n",
    "\n",
    "For quick lookups we generate two excel tables:\n",
    "\n",
    "`DATA_DIR+'cell_count_lookup_tables/cell_counts_per_region.xlsx'`  \n",
    "`DATA_DIR+'cell_count_lookup_tables/cell_counts_percentage_per_region.xlsx'`  "
   ]
  },
  {
   "cell_type": "code",
   "execution_count": 4,
   "metadata": {},
   "outputs": [],
   "source": [
    "sham_str = '_wSham' if WITH_SHAM else ''\n",
    "adata = sc.read(DATA_DIR+f'cellxgene_{DATA_VERSION}{sham_str}_umaps.h5ad')"
   ]
  },
  {
   "cell_type": "code",
   "execution_count": 5,
   "metadata": {},
   "outputs": [],
   "source": [
    "# Rename Skull to Calvaria\n",
    "adata.obs[\"region\"].cat.rename_categories({'Skull': 'Calvaria'}, inplace=True)"
   ]
  },
  {
   "cell_type": "code",
   "execution_count": 6,
   "metadata": {},
   "outputs": [
    {
     "data": {
      "text/plain": [
       "['Calvaria', 'Pelvis', 'Femur', 'Meninges', 'Vertebra', 'Humerus', 'Scapula', 'Brain']\n",
       "Categories (8, object): ['Calvaria', 'Pelvis', 'Femur', 'Meninges', 'Vertebra', 'Humerus', 'Scapula', 'Brain']"
      ]
     },
     "execution_count": 6,
     "metadata": {},
     "output_type": "execute_result"
    }
   ],
   "source": [
    "adata.obs['region'].unique()"
   ]
  },
  {
   "cell_type": "code",
   "execution_count": 9,
   "metadata": {},
   "outputs": [],
   "source": [
    "regions_order = ['Brain','Meninges','Calvaria','Vertebra','Scapula','Humerus','Pelvis','Femur']\n",
    "#regions_order = ['Brain','Meninges','Skull','Vertebra','Scapula','Humerus','Pelvis','Femur']\n",
    "data_dir = DATA_DIR+'cell_count_lookup_tables/'\n",
    "Path(data_dir).mkdir(parents=True, exist_ok=True)\n",
    "dfs = []\n",
    "sheet_names = []\n",
    "for key in ['level1','level2']:\n",
    "    for cond in ['all','Naive','Sham','MCAO']:\n",
    "        if cond == 'all':\n",
    "            df = adata.obs.copy()\n",
    "        else:\n",
    "            df = adata.obs.loc[adata.obs['condition'] == cond].copy()\n",
    "        dfs.append(pd.crosstab(df[key],df['region'])[regions_order])\n",
    "        #dfs[-1].to_csv(data_dir+f\"cell_counts_{key}_{cond}_per_region.csv\")\n",
    "        sheet_names.append(f'{key}_{cond}')\n",
    "        \n",
    "with pd.ExcelWriter(data_dir+'cell_counts_per_region.xlsx') as writer:\n",
    "    for i,df in enumerate(dfs):\n",
    "        df.to_excel(writer, sheet_name=sheet_names[i])"
   ]
  },
  {
   "cell_type": "code",
   "execution_count": 23,
   "metadata": {},
   "outputs": [],
   "source": [
    "regions_order = ['Brain','Meninges','Calvaria','Vertebra','Scapula','Humerus','Pelvis','Femur']\n",
    "#regions_order = ['Brain','Meninges','Skull','Vertebra','Scapula','Humerus','Pelvis','Femur']\n",
    "data_dir = DATA_DIR+'cell_count_lookup_tables/'\n",
    "Path(data_dir).mkdir(parents=True, exist_ok=True)\n",
    "dfs = []\n",
    "sheet_names = []\n",
    "for key in ['level1','level2']:\n",
    "    for cond in ['all','Naive','Sham','MCAO']:\n",
    "        if cond == 'all':\n",
    "            df = adata.obs.copy()\n",
    "        else:\n",
    "            df = adata.obs.loc[adata.obs['condition'] == cond].copy()\n",
    "        dfs.append(pd.crosstab(df[key],df['region'])[regions_order])\n",
    "        #dfs[-1].to_csv(data_dir+f\"cell_counts_{key}_{cond}_per_region.csv\")\n",
    "        sheet_names.append(f'{key}_{cond}')\n",
    "        \n",
    "with pd.ExcelWriter(data_dir+'cell_counts_percentage_per_region.xlsx') as writer:\n",
    "    for i,df in enumerate(dfs):\n",
    "        ((df/df.sum()) * 100).to_excel(writer, sheet_name=sheet_names[i])"
   ]
  },
  {
   "cell_type": "code",
   "execution_count": null,
   "metadata": {},
   "outputs": [],
   "source": []
  },
  {
   "attachments": {},
   "cell_type": "markdown",
   "metadata": {},
   "source": [
    "# Supplementary cell count and percentage table (sc and flow)\n",
    "\n",
    "1 excel file with two sheets, one for sc and one for flow. \n",
    "\n",
    "\n",
    "This is the final look up table that's also in the supplementary info of the paper, here saved at  \n",
    "`\"./cell_type_proportions_sc_flow.xlsx\"`"
   ]
  },
  {
   "cell_type": "markdown",
   "metadata": {},
   "source": [
    "### sc\n",
    "columns: `cell type level, cell type, condition, region, sample, cell numbers, proportion`\n"
   ]
  },
  {
   "cell_type": "code",
   "execution_count": 83,
   "metadata": {},
   "outputs": [],
   "source": [
    "adata = sc.read(DATA_DIR+f'cellxgene_{DATA_VERSION}{sham_str}_umaps.h5ad')\n",
    "adata.obs[\"region\"].cat.rename_categories({'Skull': 'Calvaria'}, inplace=True)\n",
    "adata.obs[\"condition\"].cat.rename_categories({'MCAO': 'MCAo'}, inplace=True)"
   ]
  },
  {
   "cell_type": "code",
   "execution_count": 84,
   "metadata": {},
   "outputs": [
    {
     "name": "stderr",
     "output_type": "stream",
     "text": [
      "/opt/python/lib/python3.8/site-packages/pandas/core/arrays/categorical.py:2487: FutureWarning: The `inplace` parameter in pandas.Categorical.remove_unused_categories is deprecated and will be removed in a future version.\n",
      "  res = method(*args, **kwargs)\n"
     ]
    }
   ],
   "source": [
    "# variable lists and ordering\n",
    "level1_cts = adata.obs[\"level1\"].cat.categories.tolist()\n",
    "level2_cts = adata.obs[\"level2\"].cat.categories.tolist()\n",
    "ct_level = [\"level1\" for _ in level1_cts] + [\"level2\" for _ in level2_cts]\n",
    "index = [f\"{ct} {lvl}\" for ct,lvl in zip(level1_cts+level2_cts,ct_level)]\n",
    "regions = ['Calvaria', 'Vertebra', 'Scapula', 'Femur', 'Humerus', 'Pelvis', 'Meninges',  'Brain']\n",
    "conditions = [\"Naive\",\"Sham\",\"MCAo\"]\n",
    "\n",
    "# Get cell counts and proportions\n",
    "dfs = []\n",
    "for c in conditions:\n",
    "    for r in regions:\n",
    "        df = pd.DataFrame(\n",
    "            index = index,\n",
    "            data = {\n",
    "                \"cell type level\" : ct_level,\n",
    "                \"cell type\"       : level1_cts+level2_cts,\n",
    "                \"condition\"       : c,\n",
    "                \"region\"          : r,\n",
    "                \"cell number\"     : 0,\n",
    "                \"proportion\"      : 0,\n",
    "            }\n",
    "        )\n",
    "        a = adata[(adata.obs[\"region\"]==r) & (adata.obs[\"condition\"]==c)].copy()\n",
    "        for ct_key in [\"level1\",\"level2\"]:\n",
    "            cell_count = a.obs[ct_key].value_counts()\n",
    "            proportion = a.obs[ct_key].value_counts(normalize=True)\n",
    "            idxs = cell_count.index.to_series().apply(lambda i: i+\" \"+ct_key)\n",
    "            df.loc[idxs,\"cell number\"] = cell_count.values\n",
    "            df.loc[idxs,\"proportion\"] = proportion.values\n",
    "        \n",
    "        dfs.append(df)\n",
    "        \n",
    "# Concatenate to one table and format table\n",
    "df = pd.concat(dfs)\n",
    "df.index.name = \"ct and level\"\n",
    "df = df.reset_index(drop=False)\n",
    "df[\"cell type level\"] = df[\"cell type level\"].astype(\"category\").cat.reorder_categories([\"level1\",\"level2\"])\n",
    "df[\"ct and level\"] = df[\"ct and level\"].astype(\"category\").cat.reorder_categories(index)\n",
    "#df[\"cell type\"] = df[\"cell type\"].astype(\"category\").cat.reorder_categories(level1_cts+level2_cts)\n",
    "df[\"condition\"] = df[\"condition\"].astype(\"category\").cat.reorder_categories(conditions)\n",
    "df[\"region\"] = df[\"region\"].astype(\"category\").cat.reorder_categories(regions)\n",
    "df = df.sort_values([\"cell type level\",\"ct and level\",\"condition\",\"region\"])\n",
    "df = df.reset_index(drop=True)\n",
    "del df[\"ct and level\"]\n",
    "df_sc = df"
   ]
  },
  {
   "cell_type": "code",
   "execution_count": 85,
   "metadata": {},
   "outputs": [
    {
     "data": {
      "text/html": [
       "<div>\n",
       "<style scoped>\n",
       "    .dataframe tbody tr th:only-of-type {\n",
       "        vertical-align: middle;\n",
       "    }\n",
       "\n",
       "    .dataframe tbody tr th {\n",
       "        vertical-align: top;\n",
       "    }\n",
       "\n",
       "    .dataframe thead th {\n",
       "        text-align: right;\n",
       "    }\n",
       "</style>\n",
       "<table border=\"1\" class=\"dataframe\">\n",
       "  <thead>\n",
       "    <tr style=\"text-align: right;\">\n",
       "      <th></th>\n",
       "      <th>cell type level</th>\n",
       "      <th>cell type</th>\n",
       "      <th>condition</th>\n",
       "      <th>region</th>\n",
       "      <th>cell number</th>\n",
       "      <th>proportion</th>\n",
       "    </tr>\n",
       "  </thead>\n",
       "  <tbody>\n",
       "    <tr>\n",
       "      <th>0</th>\n",
       "      <td>level1</td>\n",
       "      <td>progenitors</td>\n",
       "      <td>Naive</td>\n",
       "      <td>Calvaria</td>\n",
       "      <td>100</td>\n",
       "      <td>0.020194</td>\n",
       "    </tr>\n",
       "    <tr>\n",
       "      <th>1</th>\n",
       "      <td>level1</td>\n",
       "      <td>progenitors</td>\n",
       "      <td>Naive</td>\n",
       "      <td>Vertebra</td>\n",
       "      <td>120</td>\n",
       "      <td>0.034884</td>\n",
       "    </tr>\n",
       "    <tr>\n",
       "      <th>2</th>\n",
       "      <td>level1</td>\n",
       "      <td>progenitors</td>\n",
       "      <td>Naive</td>\n",
       "      <td>Scapula</td>\n",
       "      <td>207</td>\n",
       "      <td>0.030699</td>\n",
       "    </tr>\n",
       "    <tr>\n",
       "      <th>3</th>\n",
       "      <td>level1</td>\n",
       "      <td>progenitors</td>\n",
       "      <td>Naive</td>\n",
       "      <td>Femur</td>\n",
       "      <td>243</td>\n",
       "      <td>0.031274</td>\n",
       "    </tr>\n",
       "    <tr>\n",
       "      <th>4</th>\n",
       "      <td>level1</td>\n",
       "      <td>progenitors</td>\n",
       "      <td>Naive</td>\n",
       "      <td>Humerus</td>\n",
       "      <td>213</td>\n",
       "      <td>0.032559</td>\n",
       "    </tr>\n",
       "  </tbody>\n",
       "</table>\n",
       "</div>"
      ],
      "text/plain": [
       "  cell type level    cell type condition    region  cell number  proportion\n",
       "0          level1  progenitors     Naive  Calvaria          100    0.020194\n",
       "1          level1  progenitors     Naive  Vertebra          120    0.034884\n",
       "2          level1  progenitors     Naive   Scapula          207    0.030699\n",
       "3          level1  progenitors     Naive     Femur          243    0.031274\n",
       "4          level1  progenitors     Naive   Humerus          213    0.032559"
      ]
     },
     "execution_count": 85,
     "metadata": {},
     "output_type": "execute_result"
    }
   ],
   "source": [
    "df_sc.head()"
   ]
  },
  {
   "cell_type": "markdown",
   "metadata": {},
   "source": [
    "### flow\n",
    "columns: `cell type, reference group, condition, region, sample, proportion`"
   ]
  },
  {
   "cell_type": "code",
   "execution_count": 86,
   "metadata": {},
   "outputs": [],
   "source": [
    "def get_cond_sample_region_from_idx(idx):\n",
    "    \"\"\"\n",
    "    \"\"\"\n",
    "\n",
    "    # condition\n",
    "    if \"naive\" in idx:\n",
    "        cond = \"Naive\"\n",
    "    elif \"SHAM\" in idx:\n",
    "        cond = \"Sham\"\n",
    "    elif \"MCAO\" in idx:\n",
    "        cond = \"MCAo\"\n",
    "    else: # for samples Specimen_001_blood_015.fcs, Specimen_001_femur_002.fcs, Specimen_001_skull  seq_003_008.fcs, Specimen_001_spleen 3_011.fcs, Specimen_001_spleen_003.fcs, Specimen_001_vertebra  seq_002_007.fcs\n",
    "        cond = \"Naive\"\n",
    "        \n",
    "    # sample\n",
    "    SAMPLES = [\"naive 1\", \"naive 2\", \"naive 3\", \"SHAM1\", \"SHAM2\", \"SHAM3\", \"MCAO1\", \"MCAO2\", \"MCAO3\"]\n",
    "    SPECIAL_SAMPLES = {\n",
    "        'Specimen_001_blood_015.fcs'             :\"naive ?\",\n",
    "        'Specimen_001_femur_002.fcs'             :\"naive 4\",#\"naive ?\",\n",
    "        'Specimen_001_skull  seq_003_008.fcs'    :\"naive 4\",#\"naive ?\",\n",
    "        'Specimen_001_spleen 3_011.fcs'          :\"naive ?\",\n",
    "        'Specimen_001_spleen_003.fcs'            :\"naive ??\",\n",
    "        'Specimen_001_vertebra  seq_002_007.fcs' :\"naive 4\",#\"naive ?\",\n",
    "    }\n",
    "    sample = None\n",
    "    for s in SAMPLES:\n",
    "        \n",
    "        if idx in SPECIAL_SAMPLES:\n",
    "            sample = SPECIAL_SAMPLES[idx]\n",
    "        \n",
    "        elif s in idx:\n",
    "            sample = s\n",
    "            \n",
    "    # region\n",
    "    REGIONS = {\"blood\": \"Blood\", \"spleen\":\"Spleen\", \"femur\":\"Femur\", \"skull\":\"Calvaria\", \"vertebra\":\"Vertebra\", \"vertebtra\":\"Vertebra\"}\n",
    "    region = None\n",
    "    for r_data, r in REGIONS.items():\n",
    "        if r_data in idx:\n",
    "            region = r\n",
    "        \n",
    "    return cond, sample, region\n",
    "\n"
   ]
  },
  {
   "cell_type": "code",
   "execution_count": 87,
   "metadata": {},
   "outputs": [],
   "source": [
    "flow_bones = [\"Calvaria\",\"Vertebra\",\"Femur\"] #,\"Scapula\",\"Humerus\",\"Pelvis\"\n",
    "cond_to_flow_cond = {\"Naive\":\"naive\", \"Sham\":\"SHAM\", \"MCAO\":\"MCAO\"}\n",
    "#df = pd.DataFrame(index = [key for key in aggregation_info.keys()], columns=[\"perc sc\", \"perc flow\", \"std flow\", \"region\", \"condition\"])\n",
    "\n",
    "ct_order = [\n",
    "    'Erythrocyte(progenitor)', 'CD45+', 'T-cells', 'NK-cells',\n",
    "    'B-cells', 'immature B-cells', 'mature B-cells', 'Monocytes',\n",
    "    'early neutrophils', 'late neutrophils', 'eosinophils', 'LSK'\n",
    "]\n",
    "condition_order = [\"Naive\", \"Sham\", \"MCAo\"]\n",
    "region_order = [\"Calvaria\",\"Vertebra\",\"Femur\"]\n",
    "sample_order = [\n",
    "    \"naive 1\",\"naive 2\",\"naive 3\",\"naive 4\",\n",
    "    'SHAM1', 'SHAM2','SHAM3',\n",
    "    'MCAO1', 'MCAO2', 'MCAO3'\n",
    "]\n",
    "\n",
    "\n",
    "dfs = []\n",
    "\n",
    "for condition in [\"Naive\", \"Sham\", \"MCAO\"]:\n",
    "    \n",
    "\n",
    "    # Load and process flow df\n",
    "    df = pd.read_excel(DATA_DIR+'221019_FACS/20221014_Ilgin_newEO.xlsx', index_col=0, sheet_name=cond_to_flow_cond[condition])\n",
    "    df = df/100\n",
    "        \n",
    "    df[\"condition\"] = [v[0] for v in df.index.to_series().apply(get_cond_sample_region_from_idx).values]\n",
    "    df[\"sample\"] = [v[1] for v in df.index.to_series().apply(get_cond_sample_region_from_idx).values]\n",
    "    df[\"region\"] = [v[2] for v in df.index.to_series().apply(get_cond_sample_region_from_idx).values]\n",
    "        \n",
    "    #n_cts = len(df.columns[:-3])\n",
    "    \n",
    "    \n",
    "    df_cts = []\n",
    "    for ct in df.columns[:-3]:\n",
    "        df_cts.append(pd.DataFrame(\n",
    "            data = {\n",
    "                \"cell type\"       : ct.split(\" (\")[0],\n",
    "                \"reference group\" : ct.split(\" (\")[1][:-1],\n",
    "                \"condition\"       : df[\"condition\"].values,\n",
    "                \"region\"          : df[\"region\"].values,\n",
    "                \"sample\"          : df[\"sample\"].values,\n",
    "                #\"sample (original)\" : df.index.tolist(),\n",
    "                \"proportion\"      : df[ct].values,\n",
    "            }\n",
    "        ))\n",
    "    \n",
    "    dfs.append(pd.concat(df_cts))\n",
    "    \n",
    "df = pd.concat(dfs)\n",
    "df = df.loc[df[\"region\"].isin(flow_bones)]\n",
    "    \n",
    "df[\"cell type\"] = df[\"cell type\"].astype(\"category\").cat.reorder_categories(ct_order)\n",
    "df[\"condition\"] = df[\"condition\"].astype(\"category\").cat.reorder_categories(condition_order)\n",
    "df[\"region\"] = df[\"region\"].astype(\"category\").cat.reorder_categories(region_order)\n",
    "df[\"sample\"] = df[\"sample\"].astype(\"category\").cat.reorder_categories(sample_order)\n",
    "df = df.sort_values([\"cell type\",\"condition\",\"region\",\"sample\"])    \n",
    "df = df.reset_index(drop=True)\n",
    "df_flow = df\n"
   ]
  },
  {
   "cell_type": "code",
   "execution_count": 88,
   "metadata": {},
   "outputs": [
    {
     "data": {
      "text/html": [
       "<div>\n",
       "<style scoped>\n",
       "    .dataframe tbody tr th:only-of-type {\n",
       "        vertical-align: middle;\n",
       "    }\n",
       "\n",
       "    .dataframe tbody tr th {\n",
       "        vertical-align: top;\n",
       "    }\n",
       "\n",
       "    .dataframe thead th {\n",
       "        text-align: right;\n",
       "    }\n",
       "</style>\n",
       "<table border=\"1\" class=\"dataframe\">\n",
       "  <thead>\n",
       "    <tr style=\"text-align: right;\">\n",
       "      <th></th>\n",
       "      <th>cell type</th>\n",
       "      <th>reference group</th>\n",
       "      <th>condition</th>\n",
       "      <th>region</th>\n",
       "      <th>sample</th>\n",
       "      <th>proportion</th>\n",
       "    </tr>\n",
       "  </thead>\n",
       "  <tbody>\n",
       "    <tr>\n",
       "      <th>0</th>\n",
       "      <td>Erythrocyte(progenitor)</td>\n",
       "      <td>% alive</td>\n",
       "      <td>Naive</td>\n",
       "      <td>Calvaria</td>\n",
       "      <td>naive 1</td>\n",
       "      <td>0.249</td>\n",
       "    </tr>\n",
       "    <tr>\n",
       "      <th>1</th>\n",
       "      <td>Erythrocyte(progenitor)</td>\n",
       "      <td>% alive</td>\n",
       "      <td>Naive</td>\n",
       "      <td>Calvaria</td>\n",
       "      <td>naive 2</td>\n",
       "      <td>0.279</td>\n",
       "    </tr>\n",
       "    <tr>\n",
       "      <th>2</th>\n",
       "      <td>Erythrocyte(progenitor)</td>\n",
       "      <td>% alive</td>\n",
       "      <td>Naive</td>\n",
       "      <td>Calvaria</td>\n",
       "      <td>naive 3</td>\n",
       "      <td>0.425</td>\n",
       "    </tr>\n",
       "    <tr>\n",
       "      <th>3</th>\n",
       "      <td>Erythrocyte(progenitor)</td>\n",
       "      <td>% alive</td>\n",
       "      <td>Naive</td>\n",
       "      <td>Calvaria</td>\n",
       "      <td>naive 4</td>\n",
       "      <td>0.408</td>\n",
       "    </tr>\n",
       "    <tr>\n",
       "      <th>4</th>\n",
       "      <td>Erythrocyte(progenitor)</td>\n",
       "      <td>% alive</td>\n",
       "      <td>Naive</td>\n",
       "      <td>Vertebra</td>\n",
       "      <td>naive 1</td>\n",
       "      <td>0.157</td>\n",
       "    </tr>\n",
       "  </tbody>\n",
       "</table>\n",
       "</div>"
      ],
      "text/plain": [
       "                 cell type reference group condition    region   sample  \\\n",
       "0  Erythrocyte(progenitor)         % alive     Naive  Calvaria  naive 1   \n",
       "1  Erythrocyte(progenitor)         % alive     Naive  Calvaria  naive 2   \n",
       "2  Erythrocyte(progenitor)         % alive     Naive  Calvaria  naive 3   \n",
       "3  Erythrocyte(progenitor)         % alive     Naive  Calvaria  naive 4   \n",
       "4  Erythrocyte(progenitor)         % alive     Naive  Vertebra  naive 1   \n",
       "\n",
       "   proportion  \n",
       "0       0.249  \n",
       "1       0.279  \n",
       "2       0.425  \n",
       "3       0.408  \n",
       "4       0.157  "
      ]
     },
     "execution_count": 88,
     "metadata": {},
     "output_type": "execute_result"
    }
   ],
   "source": [
    "df_flow.head()"
   ]
  },
  {
   "cell_type": "markdown",
   "metadata": {},
   "source": [
    "### save to excel"
   ]
  },
  {
   "cell_type": "code",
   "execution_count": 90,
   "metadata": {},
   "outputs": [],
   "source": [
    "from pandas import ExcelWriter"
   ]
  },
  {
   "cell_type": "code",
   "execution_count": 91,
   "metadata": {},
   "outputs": [],
   "source": [
    "with ExcelWriter(\"./cell_type_proportions_sc_flow.xlsx\") as writer:\n",
    "    df_sc.to_excel(writer,\"scRNAseq\")\n",
    "    df_flow.to_excel(writer,\"flow cyto\")"
   ]
  },
  {
   "cell_type": "code",
   "execution_count": null,
   "metadata": {},
   "outputs": [],
   "source": []
  }
 ],
 "metadata": {
  "kernelspec": {
   "display_name": "Python 3",
   "language": "python",
   "name": "python3"
  },
  "language_info": {
   "codemirror_mode": {
    "name": "ipython",
    "version": 3
   },
   "file_extension": ".py",
   "mimetype": "text/x-python",
   "name": "python",
   "nbconvert_exporter": "python",
   "pygments_lexer": "ipython3",
   "version": "3.8.6"
  }
 },
 "nbformat": 4,
 "nbformat_minor": 4
}
